{
 "cells": [
  {
   "cell_type": "markdown",
   "id": "83fef4a5",
   "metadata": {},
   "source": [
    "# Google PlayeStore Data\n",
    "### Complete Explotary Data Analysis Beginner to Advance"
   ]
  },
  {
   "cell_type": "markdown",
   "id": "02d6ce27",
   "metadata": {},
   "source": [
    "Dataset Source [Link](https://www.kaggle.com/lava18/google-play-store-apps)"
   ]
  },
  {
   "cell_type": "markdown",
   "id": "f82790cd",
   "metadata": {},
   "source": [
    "* `Context:` While many public datasets (on Kaggle and the like) provide Apple App Store data, there are not many counterpart datasets available for Google Play Store apps anywhere on the web. On digging deeper, I found out that iTunes App Store page deploys a nicely indexed appendix-like structure to allow for simple and easy web scraping. On the other hand, Google Play Store uses sophisticated modern-day techniques (like dynamic page load) using JQuery making scraping more challenging."
   ]
  },
  {
   "cell_type": "markdown",
   "id": "27102652",
   "metadata": {},
   "source": [
    "* `Content:` Each app (row) has values for catergory, rating, size, and more."
   ]
  },
  {
   "cell_type": "markdown",
   "id": "ddb74587",
   "metadata": {},
   "source": [
    "* `Acknowledgements:` This information is scraped from the Google Play Store. This app information would not be available without it."
   ]
  },
  {
   "cell_type": "markdown",
   "id": "13263ce0",
   "metadata": {},
   "source": [
    "* `Inspiration:`\n",
    "The Play Store apps data has enormous potential to drive app-making businesses to success. Actionable insights can be drawn for developers to work on and capture the Android market!"
   ]
  },
  {
   "cell_type": "markdown",
   "id": "f7e2df87",
   "metadata": {},
   "source": [
    "## 1. Importing Libraries"
   ]
  },
  {
   "cell_type": "code",
   "execution_count": 58,
   "id": "492da2a1",
   "metadata": {},
   "outputs": [],
   "source": [
    "import pandas as pd\n",
    "import numpy as np\n",
    "import matplotlib.pyplot as plt\n",
    "import seaborn as sns\n",
    "import ydata_profiling as yd\n",
    "%matplotlib inline\n"
   ]
  },
  {
   "cell_type": "markdown",
   "id": "66097a2d",
   "metadata": {},
   "source": [
    "## 2. Data Loading and Exploration | Cleaning"
   ]
  },
  {
   "cell_type": "markdown",
   "id": "6fb69ca7",
   "metadata": {},
   "source": [
    "- lets upload tha dataset"
   ]
  },
  {
   "cell_type": "code",
   "execution_count": 59,
   "id": "0d4c4df3",
   "metadata": {},
   "outputs": [],
   "source": [
    "df = pd.read_csv(\"./DataSets/googleplaystore.csv\")\n"
   ]
  },
  {
   "cell_type": "markdown",
   "id": "4519e344",
   "metadata": {},
   "source": [
    "`Imporatent Thing`\n",
    "- Set options to be maximum for columns and rows\n",
    "- Warnings Hide/Ignore to looks clean notebook"
   ]
  },
  {
   "cell_type": "code",
   "execution_count": 60,
   "id": "301fd11e",
   "metadata": {},
   "outputs": [],
   "source": [
    "pd.set_option('display.max_columns', None)\n",
    "pd.set_option('display.max_rows', None)\n",
    "\n",
    "# Hide warnings in your notebook\n",
    "import warnings\n",
    "warnings.filterwarnings(\"ignore\")"
   ]
  },
  {
   "cell_type": "markdown",
   "id": "c17cbda3",
   "metadata": {},
   "source": [
    "- Let's have a look on top 5 rows of the data."
   ]
  },
  {
   "cell_type": "code",
   "execution_count": 61,
   "id": "5d4348a1",
   "metadata": {},
   "outputs": [
    {
     "data": {
      "text/html": [
       "<div>\n",
       "<style scoped>\n",
       "    .dataframe tbody tr th:only-of-type {\n",
       "        vertical-align: middle;\n",
       "    }\n",
       "\n",
       "    .dataframe tbody tr th {\n",
       "        vertical-align: top;\n",
       "    }\n",
       "\n",
       "    .dataframe thead th {\n",
       "        text-align: right;\n",
       "    }\n",
       "</style>\n",
       "<table border=\"1\" class=\"dataframe\">\n",
       "  <thead>\n",
       "    <tr style=\"text-align: right;\">\n",
       "      <th></th>\n",
       "      <th>App</th>\n",
       "      <th>Category</th>\n",
       "      <th>Rating</th>\n",
       "      <th>Reviews</th>\n",
       "      <th>Size</th>\n",
       "      <th>Installs</th>\n",
       "      <th>Type</th>\n",
       "      <th>Price</th>\n",
       "      <th>Content Rating</th>\n",
       "      <th>Genres</th>\n",
       "      <th>Last Updated</th>\n",
       "      <th>Current Ver</th>\n",
       "      <th>Android Ver</th>\n",
       "    </tr>\n",
       "  </thead>\n",
       "  <tbody>\n",
       "    <tr>\n",
       "      <th>0</th>\n",
       "      <td>Photo Editor &amp; Candy Camera &amp; Grid &amp; ScrapBook</td>\n",
       "      <td>ART_AND_DESIGN</td>\n",
       "      <td>4.1</td>\n",
       "      <td>159</td>\n",
       "      <td>19M</td>\n",
       "      <td>10,000+</td>\n",
       "      <td>Free</td>\n",
       "      <td>0</td>\n",
       "      <td>Everyone</td>\n",
       "      <td>Art &amp; Design</td>\n",
       "      <td>January 7, 2018</td>\n",
       "      <td>1.0.0</td>\n",
       "      <td>4.0.3 and up</td>\n",
       "    </tr>\n",
       "    <tr>\n",
       "      <th>1</th>\n",
       "      <td>Coloring book moana</td>\n",
       "      <td>ART_AND_DESIGN</td>\n",
       "      <td>3.9</td>\n",
       "      <td>967</td>\n",
       "      <td>14M</td>\n",
       "      <td>500,000+</td>\n",
       "      <td>Free</td>\n",
       "      <td>0</td>\n",
       "      <td>Everyone</td>\n",
       "      <td>Art &amp; Design;Pretend Play</td>\n",
       "      <td>January 15, 2018</td>\n",
       "      <td>2.0.0</td>\n",
       "      <td>4.0.3 and up</td>\n",
       "    </tr>\n",
       "    <tr>\n",
       "      <th>2</th>\n",
       "      <td>U Launcher Lite – FREE Live Cool Themes, Hide ...</td>\n",
       "      <td>ART_AND_DESIGN</td>\n",
       "      <td>4.7</td>\n",
       "      <td>87510</td>\n",
       "      <td>8.7M</td>\n",
       "      <td>5,000,000+</td>\n",
       "      <td>Free</td>\n",
       "      <td>0</td>\n",
       "      <td>Everyone</td>\n",
       "      <td>Art &amp; Design</td>\n",
       "      <td>August 1, 2018</td>\n",
       "      <td>1.2.4</td>\n",
       "      <td>4.0.3 and up</td>\n",
       "    </tr>\n",
       "    <tr>\n",
       "      <th>3</th>\n",
       "      <td>Sketch - Draw &amp; Paint</td>\n",
       "      <td>ART_AND_DESIGN</td>\n",
       "      <td>4.5</td>\n",
       "      <td>215644</td>\n",
       "      <td>25M</td>\n",
       "      <td>50,000,000+</td>\n",
       "      <td>Free</td>\n",
       "      <td>0</td>\n",
       "      <td>Teen</td>\n",
       "      <td>Art &amp; Design</td>\n",
       "      <td>June 8, 2018</td>\n",
       "      <td>Varies with device</td>\n",
       "      <td>4.2 and up</td>\n",
       "    </tr>\n",
       "    <tr>\n",
       "      <th>4</th>\n",
       "      <td>Pixel Draw - Number Art Coloring Book</td>\n",
       "      <td>ART_AND_DESIGN</td>\n",
       "      <td>4.3</td>\n",
       "      <td>967</td>\n",
       "      <td>2.8M</td>\n",
       "      <td>100,000+</td>\n",
       "      <td>Free</td>\n",
       "      <td>0</td>\n",
       "      <td>Everyone</td>\n",
       "      <td>Art &amp; Design;Creativity</td>\n",
       "      <td>June 20, 2018</td>\n",
       "      <td>1.1</td>\n",
       "      <td>4.4 and up</td>\n",
       "    </tr>\n",
       "  </tbody>\n",
       "</table>\n",
       "</div>"
      ],
      "text/plain": [
       "                                                 App        Category  Rating  \\\n",
       "0     Photo Editor & Candy Camera & Grid & ScrapBook  ART_AND_DESIGN     4.1   \n",
       "1                                Coloring book moana  ART_AND_DESIGN     3.9   \n",
       "2  U Launcher Lite – FREE Live Cool Themes, Hide ...  ART_AND_DESIGN     4.7   \n",
       "3                              Sketch - Draw & Paint  ART_AND_DESIGN     4.5   \n",
       "4              Pixel Draw - Number Art Coloring Book  ART_AND_DESIGN     4.3   \n",
       "\n",
       "   Reviews  Size     Installs  Type Price Content Rating  \\\n",
       "0      159   19M      10,000+  Free     0       Everyone   \n",
       "1      967   14M     500,000+  Free     0       Everyone   \n",
       "2    87510  8.7M   5,000,000+  Free     0       Everyone   \n",
       "3   215644   25M  50,000,000+  Free     0           Teen   \n",
       "4      967  2.8M     100,000+  Free     0       Everyone   \n",
       "\n",
       "                      Genres      Last Updated         Current Ver  \\\n",
       "0               Art & Design   January 7, 2018               1.0.0   \n",
       "1  Art & Design;Pretend Play  January 15, 2018               2.0.0   \n",
       "2               Art & Design    August 1, 2018               1.2.4   \n",
       "3               Art & Design      June 8, 2018  Varies with device   \n",
       "4    Art & Design;Creativity     June 20, 2018                 1.1   \n",
       "\n",
       "    Android Ver  \n",
       "0  4.0.3 and up  \n",
       "1  4.0.3 and up  \n",
       "2  4.0.3 and up  \n",
       "3    4.2 and up  \n",
       "4    4.4 and up  "
      ]
     },
     "execution_count": 61,
     "metadata": {},
     "output_type": "execute_result"
    }
   ],
   "source": [
    "df.head()"
   ]
  },
  {
   "cell_type": "code",
   "execution_count": 62,
   "id": "8857194c",
   "metadata": {},
   "outputs": [
    {
     "data": {
      "text/plain": [
       "Index(['App', 'Category', 'Rating', 'Reviews', 'Size', 'Installs', 'Type',\n",
       "       'Price', 'Content Rating', 'Genres', 'Last Updated', 'Current Ver',\n",
       "       'Android Ver'],\n",
       "      dtype='object')"
      ]
     },
     "execution_count": 62,
     "metadata": {},
     "output_type": "execute_result"
    }
   ],
   "source": [
    "# check how many columns \n",
    "df.columns"
   ]
  },
  {
   "cell_type": "code",
   "execution_count": 63,
   "id": "1bf1c7d1",
   "metadata": {},
   "outputs": [
    {
     "name": "stdout",
     "output_type": "stream",
     "text": [
      "in this dataset we have total 10841 rows, and total 13 columns.\n"
     ]
    }
   ],
   "source": [
    "# Check how many rows and columns shape.\n",
    "# df.shape\n",
    "print(f'in this dataset we have total {df.shape[0]} rows, and total {df.shape[1]} columns.')"
   ]
  },
  {
   "cell_type": "code",
   "execution_count": 64,
   "id": "b36ea485",
   "metadata": {},
   "outputs": [
    {
     "name": "stdout",
     "output_type": "stream",
     "text": [
      "<class 'pandas.core.frame.DataFrame'>\n",
      "RangeIndex: 10841 entries, 0 to 10840\n",
      "Data columns (total 13 columns):\n",
      " #   Column          Non-Null Count  Dtype  \n",
      "---  ------          --------------  -----  \n",
      " 0   App             10841 non-null  object \n",
      " 1   Category        10841 non-null  object \n",
      " 2   Rating          9367 non-null   float64\n",
      " 3   Reviews         10841 non-null  int64  \n",
      " 4   Size            10841 non-null  object \n",
      " 5   Installs        10841 non-null  object \n",
      " 6   Type            10840 non-null  object \n",
      " 7   Price           10841 non-null  object \n",
      " 8   Content Rating  10841 non-null  object \n",
      " 9   Genres          10841 non-null  object \n",
      " 10  Last Updated    10841 non-null  object \n",
      " 11  Current Ver     10833 non-null  object \n",
      " 12  Android Ver     10839 non-null  object \n",
      "dtypes: float64(1), int64(1), object(11)\n",
      "memory usage: 1.1+ MB\n"
     ]
    }
   ],
   "source": [
    "# Check the dafa informetion\n",
    "df.info()"
   ]
  },
  {
   "cell_type": "code",
   "execution_count": 65,
   "id": "3921be51",
   "metadata": {},
   "outputs": [
    {
     "data": {
      "text/html": [
       "<div>\n",
       "<style scoped>\n",
       "    .dataframe tbody tr th:only-of-type {\n",
       "        vertical-align: middle;\n",
       "    }\n",
       "\n",
       "    .dataframe tbody tr th {\n",
       "        vertical-align: top;\n",
       "    }\n",
       "\n",
       "    .dataframe thead th {\n",
       "        text-align: right;\n",
       "    }\n",
       "</style>\n",
       "<table border=\"1\" class=\"dataframe\">\n",
       "  <thead>\n",
       "    <tr style=\"text-align: right;\">\n",
       "      <th></th>\n",
       "      <th>Rating</th>\n",
       "      <th>Reviews</th>\n",
       "    </tr>\n",
       "  </thead>\n",
       "  <tbody>\n",
       "    <tr>\n",
       "      <th>count</th>\n",
       "      <td>9367.000000</td>\n",
       "      <td>1.084100e+04</td>\n",
       "    </tr>\n",
       "    <tr>\n",
       "      <th>mean</th>\n",
       "      <td>4.191513</td>\n",
       "      <td>4.441119e+05</td>\n",
       "    </tr>\n",
       "    <tr>\n",
       "      <th>std</th>\n",
       "      <td>0.515735</td>\n",
       "      <td>2.927629e+06</td>\n",
       "    </tr>\n",
       "    <tr>\n",
       "      <th>min</th>\n",
       "      <td>1.000000</td>\n",
       "      <td>0.000000e+00</td>\n",
       "    </tr>\n",
       "    <tr>\n",
       "      <th>25%</th>\n",
       "      <td>4.000000</td>\n",
       "      <td>3.800000e+01</td>\n",
       "    </tr>\n",
       "    <tr>\n",
       "      <th>50%</th>\n",
       "      <td>4.300000</td>\n",
       "      <td>2.094000e+03</td>\n",
       "    </tr>\n",
       "    <tr>\n",
       "      <th>75%</th>\n",
       "      <td>4.500000</td>\n",
       "      <td>5.476800e+04</td>\n",
       "    </tr>\n",
       "    <tr>\n",
       "      <th>max</th>\n",
       "      <td>5.000000</td>\n",
       "      <td>7.815831e+07</td>\n",
       "    </tr>\n",
       "  </tbody>\n",
       "</table>\n",
       "</div>"
      ],
      "text/plain": [
       "            Rating       Reviews\n",
       "count  9367.000000  1.084100e+04\n",
       "mean      4.191513  4.441119e+05\n",
       "std       0.515735  2.927629e+06\n",
       "min       1.000000  0.000000e+00\n",
       "25%       4.000000  3.800000e+01\n",
       "50%       4.300000  2.094000e+03\n",
       "75%       4.500000  5.476800e+04\n",
       "max       5.000000  7.815831e+07"
      ]
     },
     "execution_count": 65,
     "metadata": {},
     "output_type": "execute_result"
    }
   ],
   "source": [
    "# lets describe tha data in details\n",
    "df.describe()"
   ]
  },
  {
   "cell_type": "markdown",
   "id": "323af07a",
   "metadata": {},
   "source": [
    "### We have total 5 columns of numeric formate 'Rating', 'Reviews', 'Size', 'Installs' and 'Price'.\n",
    "### lets convert into numeric catagory"
   ]
  },
  {
   "cell_type": "code",
   "execution_count": 66,
   "id": "b29afb2b",
   "metadata": {},
   "outputs": [
    {
     "data": {
      "text/plain": [
       "array(['19M', '14M', '8.7M', '25M', '2.8M', '5.6M', '29M', '33M', '3.1M',\n",
       "       '28M', '12M', '20M', '21M', '37M', '2.7M', '5.5M', '17M', '39M',\n",
       "       '31M', '4.2M', '7.0M', '23M', '6.0M', '6.1M', '4.6M', '9.2M',\n",
       "       '5.2M', '11M', '24M', 'Varies with device', '9.4M', '15M', '10M',\n",
       "       '1.2M', '26M', '8.0M', '7.9M', '56M', '57M', '35M', '54M', '201k',\n",
       "       '3.6M', '5.7M', '8.6M', '2.4M', '27M', '2.5M', '16M', '3.4M',\n",
       "       '8.9M', '3.9M', '2.9M', '38M', '32M', '5.4M', '18M', '1.1M',\n",
       "       '2.2M', '4.5M', '9.8M', '52M', '9.0M', '6.7M', '30M', '2.6M',\n",
       "       '7.1M', '3.7M', '22M', '7.4M', '6.4M', '3.2M', '8.2M', '9.9M',\n",
       "       '4.9M', '9.5M', '5.0M', '5.9M', '13M', '73M', '6.8M', '3.5M',\n",
       "       '4.0M', '2.3M', '7.2M', '2.1M', '42M', '7.3M', '9.1M', '55M',\n",
       "       '23k', '6.5M', '1.5M', '7.5M', '51M', '41M', '48M', '8.5M', '46M',\n",
       "       '8.3M', '4.3M', '4.7M', '3.3M', '40M', '7.8M', '8.8M', '6.6M',\n",
       "       '5.1M', '61M', '66M', '79k', '8.4M', '118k', '44M', '695k', '1.6M',\n",
       "       '6.2M', '18k', '53M', '1.4M', '3.0M', '5.8M', '3.8M', '9.6M',\n",
       "       '45M', '63M', '49M', '77M', '4.4M', '4.8M', '70M', '6.9M', '9.3M',\n",
       "       '10.0M', '8.1M', '36M', '84M', '97M', '2.0M', '1.9M', '1.8M',\n",
       "       '5.3M', '47M', '556k', '526k', '76M', '7.6M', '59M', '9.7M', '78M',\n",
       "       '72M', '43M', '7.7M', '6.3M', '334k', '34M', '93M', '65M', '79M',\n",
       "       '100M', '58M', '50M', '68M', '64M', '67M', '60M', '94M', '232k',\n",
       "       '99M', '624k', '95M', '8.5k', '41k', '292k', '11k', '80M', '1.7M',\n",
       "       '74M', '62M', '69M', '75M', '98M', '85M', '82M', '96M', '87M',\n",
       "       '71M', '86M', '91M', '81M', '92M', '83M', '88M', '704k', '862k',\n",
       "       '899k', '378k', '266k', '375k', '1.3M', '975k', '980k', '4.1M',\n",
       "       '89M', '696k', '544k', '525k', '920k', '779k', '853k', '720k',\n",
       "       '713k', '772k', '318k', '58k', '241k', '196k', '857k', '51k',\n",
       "       '953k', '865k', '251k', '930k', '540k', '313k', '746k', '203k',\n",
       "       '26k', '314k', '239k', '371k', '220k', '730k', '756k', '91k',\n",
       "       '293k', '17k', '74k', '14k', '317k', '78k', '924k', '902k', '818k',\n",
       "       '81k', '939k', '169k', '45k', '475k', '965k', '90M', '545k', '61k',\n",
       "       '283k', '655k', '714k', '93k', '872k', '121k', '322k', '1.0M',\n",
       "       '976k', '172k', '238k', '549k', '206k', '954k', '444k', '717k',\n",
       "       '210k', '609k', '308k', '705k', '306k', '904k', '473k', '175k',\n",
       "       '350k', '383k', '454k', '421k', '70k', '812k', '442k', '842k',\n",
       "       '417k', '412k', '459k', '478k', '335k', '782k', '721k', '430k',\n",
       "       '429k', '192k', '200k', '460k', '728k', '496k', '816k', '414k',\n",
       "       '506k', '887k', '613k', '243k', '569k', '778k', '683k', '592k',\n",
       "       '319k', '186k', '840k', '647k', '191k', '373k', '437k', '598k',\n",
       "       '716k', '585k', '982k', '222k', '219k', '55k', '948k', '323k',\n",
       "       '691k', '511k', '951k', '963k', '25k', '554k', '351k', '27k',\n",
       "       '82k', '208k', '913k', '514k', '551k', '29k', '103k', '898k',\n",
       "       '743k', '116k', '153k', '209k', '353k', '499k', '173k', '597k',\n",
       "       '809k', '122k', '411k', '400k', '801k', '787k', '237k', '50k',\n",
       "       '643k', '986k', '97k', '516k', '837k', '780k', '961k', '269k',\n",
       "       '20k', '498k', '600k', '749k', '642k', '881k', '72k', '656k',\n",
       "       '601k', '221k', '228k', '108k', '940k', '176k', '33k', '663k',\n",
       "       '34k', '942k', '259k', '164k', '458k', '245k', '629k', '28k',\n",
       "       '288k', '775k', '785k', '636k', '916k', '994k', '309k', '485k',\n",
       "       '914k', '903k', '608k', '500k', '54k', '562k', '847k', '957k',\n",
       "       '688k', '811k', '270k', '48k', '329k', '523k', '921k', '874k',\n",
       "       '981k', '784k', '280k', '24k', '518k', '754k', '892k', '154k',\n",
       "       '860k', '364k', '387k', '626k', '161k', '879k', '39k', '970k',\n",
       "       '170k', '141k', '160k', '144k', '143k', '190k', '376k', '193k',\n",
       "       '246k', '73k', '658k', '992k', '253k', '420k', '404k', '470k',\n",
       "       '226k', '240k', '89k', '234k', '257k', '861k', '467k', '157k',\n",
       "       '44k', '676k', '67k', '552k', '885k', '1020k', '582k', '619k'],\n",
       "      dtype=object)"
      ]
     },
     "execution_count": 66,
     "metadata": {},
     "output_type": "execute_result"
    }
   ],
   "source": [
    "df['Size'].unique()"
   ]
  },
  {
   "cell_type": "markdown",
   "id": "75f83c1f",
   "metadata": {},
   "source": [
    "**Observation**\n",
    "1. Varies with device\n",
    "2. M\n",
    "3. k"
   ]
  },
  {
   "cell_type": "code",
   "execution_count": 67,
   "id": "8331f2c9",
   "metadata": {},
   "outputs": [
    {
     "data": {
      "text/plain": [
       "np.int64(0)"
      ]
     },
     "execution_count": 67,
     "metadata": {},
     "output_type": "execute_result"
    }
   ],
   "source": [
    "# check missing values in whole data or in any particular column\n",
    "df.isnull().sum()\n",
    "df['Size'].isnull().sum()"
   ]
  },
  {
   "cell_type": "markdown",
   "id": "c489d784",
   "metadata": {},
   "source": [
    "- We have 0 missing value in ''Size' series lets move farword"
   ]
  },
  {
   "cell_type": "code",
   "execution_count": 68,
   "id": "961c87ce",
   "metadata": {},
   "outputs": [
    {
     "data": {
      "text/plain": [
       "np.int64(8830)"
      ]
     },
     "execution_count": 68,
     "metadata": {},
     "output_type": "execute_result"
    }
   ],
   "source": [
    "# find the value 'M' in size column\n",
    "df['Size'].loc[df['Size'].str.contains('M')].value_counts().sum()"
   ]
  },
  {
   "cell_type": "code",
   "execution_count": 69,
   "id": "ccf34ca8",
   "metadata": {},
   "outputs": [
    {
     "data": {
      "text/plain": [
       "np.int64(316)"
      ]
     },
     "execution_count": 69,
     "metadata": {},
     "output_type": "execute_result"
    }
   ],
   "source": [
    "# find the value 'k' in size column\n",
    "df['Size'].loc[df['Size'].str.contains('k')].value_counts().sum()"
   ]
  },
  {
   "cell_type": "code",
   "execution_count": 70,
   "id": "fac03b3c",
   "metadata": {},
   "outputs": [
    {
     "data": {
      "text/plain": [
       "np.int64(1695)"
      ]
     },
     "execution_count": 70,
     "metadata": {},
     "output_type": "execute_result"
    }
   ],
   "source": [
    "# find the value 'Varies with device' in size column\n",
    "df['Size'].loc[df['Size'].str.contains('Varies with device')].value_counts().sum()"
   ]
  },
  {
   "cell_type": "code",
   "execution_count": 71,
   "id": "1342b308",
   "metadata": {},
   "outputs": [
    {
     "data": {
      "text/plain": [
       "10841"
      ]
     },
     "execution_count": 71,
     "metadata": {},
     "output_type": "execute_result"
    }
   ],
   "source": [
    "# counts these output values\n",
    "8830+316+1695"
   ]
  },
  {
   "cell_type": "code",
   "execution_count": 72,
   "id": "3d1c4630",
   "metadata": {},
   "outputs": [
    {
     "data": {
      "text/plain": [
       "10841"
      ]
     },
     "execution_count": 72,
     "metadata": {},
     "output_type": "execute_result"
    }
   ],
   "source": [
    "# total legnth of Size variable\n",
    "len(df['Size'])"
   ]
  },
  {
   "cell_type": "markdown",
   "id": "74b97ea5",
   "metadata": {},
   "source": [
    "- lets convert column 'Size' into Bytes"
   ]
  },
  {
   "cell_type": "code",
   "execution_count": 73,
   "id": "b4de9229",
   "metadata": {},
   "outputs": [],
   "source": [
    "# lets define a function for converting str into int\n",
    "def convert_size(size):\n",
    "    if isinstance(size, str):\n",
    "        if 'k' in size:\n",
    "            return float(size.replace('k', '')) * 1024\n",
    "        elif 'M' in size:\n",
    "            return float(size.replace('M', '')) * 1024 * 1024\n",
    "        elif 'Varies with device' in size:\n",
    "            return np.nan\n",
    "    return size"
   ]
  },
  {
   "cell_type": "code",
   "execution_count": 74,
   "id": "36bc6d1b",
   "metadata": {},
   "outputs": [
    {
     "data": {
      "text/plain": [
       "array([1.99229440e+07, 1.46800640e+07, 9.12261120e+06, 2.62144000e+07,\n",
       "       2.93601280e+06, 5.87202560e+06, 3.04087040e+07, 3.46030080e+07,\n",
       "       3.25058560e+06, 2.93601280e+07, 1.25829120e+07, 2.09715200e+07,\n",
       "       2.20200960e+07, 3.87973120e+07, 2.83115520e+06, 5.76716800e+06,\n",
       "       1.78257920e+07, 4.08944640e+07, 3.25058560e+07, 4.40401920e+06,\n",
       "       7.34003200e+06, 2.41172480e+07, 6.29145600e+06, 6.39631360e+06,\n",
       "       4.82344960e+06, 9.64689920e+06, 5.45259520e+06, 1.15343360e+07,\n",
       "       2.51658240e+07,            nan, 9.85661440e+06, 1.57286400e+07,\n",
       "       1.04857600e+07, 1.25829120e+06, 2.72629760e+07, 8.38860800e+06,\n",
       "       8.28375040e+06, 5.87202560e+07, 5.97688320e+07, 3.67001600e+07,\n",
       "       5.66231040e+07, 2.05824000e+05, 3.77487360e+06, 5.97688320e+06,\n",
       "       9.01775360e+06, 2.51658240e+06, 2.83115520e+07, 2.62144000e+06,\n",
       "       1.67772160e+07, 3.56515840e+06, 9.33232640e+06, 4.08944640e+06,\n",
       "       3.04087040e+06, 3.98458880e+07, 3.35544320e+07, 5.66231040e+06,\n",
       "       1.88743680e+07, 1.15343360e+06, 2.30686720e+06, 4.71859200e+06,\n",
       "       1.02760448e+07, 5.45259520e+07, 9.43718400e+06, 7.02545920e+06,\n",
       "       3.14572800e+07, 2.72629760e+06, 7.44488960e+06, 3.87973120e+06,\n",
       "       2.30686720e+07, 7.75946240e+06, 6.71088640e+06, 3.35544320e+06,\n",
       "       8.59832320e+06, 1.03809024e+07, 5.13802240e+06, 9.96147200e+06,\n",
       "       5.24288000e+06, 6.18659840e+06, 1.36314880e+07, 7.65460480e+07,\n",
       "       7.13031680e+06, 3.67001600e+06, 4.19430400e+06, 2.41172480e+06,\n",
       "       7.54974720e+06, 2.20200960e+06, 4.40401920e+07, 7.65460480e+06,\n",
       "       9.54204160e+06, 5.76716800e+07, 2.35520000e+04, 6.81574400e+06,\n",
       "       1.57286400e+06, 7.86432000e+06, 5.34773760e+07, 4.29916160e+07,\n",
       "       5.03316480e+07, 8.91289600e+06, 4.82344960e+07, 8.70318080e+06,\n",
       "       4.50887680e+06, 4.92830720e+06, 3.46030080e+06, 4.19430400e+07,\n",
       "       8.17889280e+06, 9.22746880e+06, 6.92060160e+06, 5.34773760e+06,\n",
       "       6.39631360e+07, 6.92060160e+07, 8.08960000e+04, 8.80803840e+06,\n",
       "       1.20832000e+05, 4.61373440e+07, 7.11680000e+05, 1.67772160e+06,\n",
       "       6.50117120e+06, 1.84320000e+04, 5.55745280e+07, 1.46800640e+06,\n",
       "       3.14572800e+06, 6.08174080e+06, 3.98458880e+06, 1.00663296e+07,\n",
       "       4.71859200e+07, 6.60602880e+07, 5.13802240e+07, 8.07403520e+07,\n",
       "       4.61373440e+06, 5.03316480e+06, 7.34003200e+07, 7.23517440e+06,\n",
       "       9.75175680e+06, 8.49346560e+06, 3.77487360e+07, 8.80803840e+07,\n",
       "       1.01711872e+08, 2.09715200e+06, 1.99229440e+06, 1.88743680e+06,\n",
       "       5.55745280e+06, 4.92830720e+07, 5.69344000e+05, 5.38624000e+05,\n",
       "       7.96917760e+07, 7.96917760e+06, 6.18659840e+07, 1.01711872e+07,\n",
       "       8.17889280e+07, 7.54974720e+07, 4.50887680e+07, 8.07403520e+06,\n",
       "       6.60602880e+06, 3.42016000e+05, 3.56515840e+07, 9.75175680e+07,\n",
       "       6.81574400e+07, 8.28375040e+07, 1.04857600e+08, 6.08174080e+07,\n",
       "       5.24288000e+07, 7.13031680e+07, 6.71088640e+07, 7.02545920e+07,\n",
       "       6.29145600e+07, 9.85661440e+07, 2.37568000e+05, 1.03809024e+08,\n",
       "       6.38976000e+05, 9.96147200e+07, 8.70400000e+03, 4.19840000e+04,\n",
       "       2.99008000e+05, 1.12640000e+04, 8.38860800e+07, 1.78257920e+06,\n",
       "       7.75946240e+07, 6.50117120e+07, 7.23517440e+07, 7.86432000e+07,\n",
       "       1.02760448e+08, 8.91289600e+07, 8.59832320e+07, 1.00663296e+08,\n",
       "       9.12261120e+07, 7.44488960e+07, 9.01775360e+07, 9.54204160e+07,\n",
       "       8.49346560e+07, 9.64689920e+07, 8.70318080e+07, 9.22746880e+07,\n",
       "       7.20896000e+05, 8.82688000e+05, 9.20576000e+05, 3.87072000e+05,\n",
       "       2.72384000e+05, 3.84000000e+05, 1.36314880e+06, 9.98400000e+05,\n",
       "       1.00352000e+06, 4.29916160e+06, 9.33232640e+07, 7.12704000e+05,\n",
       "       5.57056000e+05, 5.37600000e+05, 9.42080000e+05, 7.97696000e+05,\n",
       "       8.73472000e+05, 7.37280000e+05, 7.30112000e+05, 7.90528000e+05,\n",
       "       3.25632000e+05, 5.93920000e+04, 2.46784000e+05, 2.00704000e+05,\n",
       "       8.77568000e+05, 5.22240000e+04, 9.75872000e+05, 8.85760000e+05,\n",
       "       2.57024000e+05, 9.52320000e+05, 5.52960000e+05, 3.20512000e+05,\n",
       "       7.63904000e+05, 2.07872000e+05, 2.66240000e+04, 3.21536000e+05,\n",
       "       2.44736000e+05, 3.79904000e+05, 2.25280000e+05, 7.47520000e+05,\n",
       "       7.74144000e+05, 9.31840000e+04, 3.00032000e+05, 1.74080000e+04,\n",
       "       7.57760000e+04, 1.43360000e+04, 3.24608000e+05, 7.98720000e+04,\n",
       "       9.46176000e+05, 9.23648000e+05, 8.37632000e+05, 8.29440000e+04,\n",
       "       9.61536000e+05, 1.73056000e+05, 4.60800000e+04, 4.86400000e+05,\n",
       "       9.88160000e+05, 9.43718400e+07, 5.58080000e+05, 6.24640000e+04,\n",
       "       2.89792000e+05, 6.70720000e+05, 7.31136000e+05, 9.52320000e+04,\n",
       "       8.92928000e+05, 1.23904000e+05, 3.29728000e+05, 1.04857600e+06,\n",
       "       9.99424000e+05, 1.76128000e+05, 2.43712000e+05, 5.62176000e+05,\n",
       "       2.10944000e+05, 9.76896000e+05, 4.54656000e+05, 7.34208000e+05,\n",
       "       2.15040000e+05, 6.23616000e+05, 3.15392000e+05, 7.21920000e+05,\n",
       "       3.13344000e+05, 9.25696000e+05, 4.84352000e+05, 1.79200000e+05,\n",
       "       3.58400000e+05, 3.92192000e+05, 4.64896000e+05, 4.31104000e+05,\n",
       "       7.16800000e+04, 8.31488000e+05, 4.52608000e+05, 8.62208000e+05,\n",
       "       4.27008000e+05, 4.21888000e+05, 4.70016000e+05, 4.89472000e+05,\n",
       "       3.43040000e+05, 8.00768000e+05, 7.38304000e+05, 4.40320000e+05,\n",
       "       4.39296000e+05, 1.96608000e+05, 2.04800000e+05, 4.71040000e+05,\n",
       "       7.45472000e+05, 5.07904000e+05, 8.35584000e+05, 4.23936000e+05,\n",
       "       5.18144000e+05, 9.08288000e+05, 6.27712000e+05, 2.48832000e+05,\n",
       "       5.82656000e+05, 7.96672000e+05, 6.99392000e+05, 6.06208000e+05,\n",
       "       3.26656000e+05, 1.90464000e+05, 8.60160000e+05, 6.62528000e+05,\n",
       "       1.95584000e+05, 3.81952000e+05, 4.47488000e+05, 6.12352000e+05,\n",
       "       7.33184000e+05, 5.99040000e+05, 1.00556800e+06, 2.27328000e+05,\n",
       "       2.24256000e+05, 5.63200000e+04, 9.70752000e+05, 3.30752000e+05,\n",
       "       7.07584000e+05, 5.23264000e+05, 9.73824000e+05, 9.86112000e+05,\n",
       "       2.56000000e+04, 5.67296000e+05, 3.59424000e+05, 2.76480000e+04,\n",
       "       8.39680000e+04, 2.12992000e+05, 9.34912000e+05, 5.26336000e+05,\n",
       "       5.64224000e+05, 2.96960000e+04, 1.05472000e+05, 9.19552000e+05,\n",
       "       7.60832000e+05, 1.18784000e+05, 1.56672000e+05, 2.14016000e+05,\n",
       "       3.61472000e+05, 5.10976000e+05, 1.77152000e+05, 6.11328000e+05,\n",
       "       8.28416000e+05, 1.24928000e+05, 4.20864000e+05, 4.09600000e+05,\n",
       "       8.20224000e+05, 8.05888000e+05, 2.42688000e+05, 5.12000000e+04,\n",
       "       6.58432000e+05, 1.00966400e+06, 9.93280000e+04, 5.28384000e+05,\n",
       "       8.57088000e+05, 7.98720000e+05, 9.84064000e+05, 2.75456000e+05,\n",
       "       2.04800000e+04, 5.09952000e+05, 6.14400000e+05, 7.66976000e+05,\n",
       "       6.57408000e+05, 9.02144000e+05, 7.37280000e+04, 6.71744000e+05,\n",
       "       6.15424000e+05, 2.26304000e+05, 2.33472000e+05, 1.10592000e+05,\n",
       "       9.62560000e+05, 1.80224000e+05, 3.37920000e+04, 6.78912000e+05,\n",
       "       3.48160000e+04, 9.64608000e+05, 2.65216000e+05, 1.67936000e+05,\n",
       "       4.68992000e+05, 2.50880000e+05, 6.44096000e+05, 2.86720000e+04,\n",
       "       2.94912000e+05, 7.93600000e+05, 8.03840000e+05, 6.51264000e+05,\n",
       "       9.37984000e+05, 1.01785600e+06, 3.16416000e+05, 4.96640000e+05,\n",
       "       9.35936000e+05, 9.24672000e+05, 6.22592000e+05, 5.12000000e+05,\n",
       "       5.52960000e+04, 5.75488000e+05, 8.67328000e+05, 9.79968000e+05,\n",
       "       7.04512000e+05, 8.30464000e+05, 2.76480000e+05, 4.91520000e+04,\n",
       "       3.36896000e+05, 5.35552000e+05, 9.43104000e+05, 8.94976000e+05,\n",
       "       1.00454400e+06, 8.02816000e+05, 2.86720000e+05, 2.45760000e+04,\n",
       "       5.30432000e+05, 7.72096000e+05, 9.13408000e+05, 1.57696000e+05,\n",
       "       8.80640000e+05, 3.72736000e+05, 3.96288000e+05, 6.41024000e+05,\n",
       "       1.64864000e+05, 9.00096000e+05, 3.99360000e+04, 9.93280000e+05,\n",
       "       1.74080000e+05, 1.44384000e+05, 1.63840000e+05, 1.47456000e+05,\n",
       "       1.46432000e+05, 1.94560000e+05, 3.85024000e+05, 1.97632000e+05,\n",
       "       2.51904000e+05, 7.47520000e+04, 6.73792000e+05, 1.01580800e+06,\n",
       "       2.59072000e+05, 4.30080000e+05, 4.13696000e+05, 4.81280000e+05,\n",
       "       2.31424000e+05, 2.45760000e+05, 9.11360000e+04, 2.39616000e+05,\n",
       "       2.63168000e+05, 8.81664000e+05, 4.78208000e+05, 1.60768000e+05,\n",
       "       4.50560000e+04, 6.92224000e+05, 6.86080000e+04, 5.65248000e+05,\n",
       "       9.06240000e+05, 1.04448000e+06, 5.95968000e+05, 6.33856000e+05])"
      ]
     },
     "execution_count": 74,
     "metadata": {},
     "output_type": "execute_result"
    }
   ],
   "source": [
    "# lets apply the function\n",
    "df['Size'] = df['Size'].apply(convert_size)\n",
    "df['Size'].unique()"
   ]
  },
  {
   "cell_type": "code",
   "execution_count": 75,
   "id": "a760e628",
   "metadata": {},
   "outputs": [
    {
     "data": {
      "text/html": [
       "<div>\n",
       "<style scoped>\n",
       "    .dataframe tbody tr th:only-of-type {\n",
       "        vertical-align: middle;\n",
       "    }\n",
       "\n",
       "    .dataframe tbody tr th {\n",
       "        vertical-align: top;\n",
       "    }\n",
       "\n",
       "    .dataframe thead th {\n",
       "        text-align: right;\n",
       "    }\n",
       "</style>\n",
       "<table border=\"1\" class=\"dataframe\">\n",
       "  <thead>\n",
       "    <tr style=\"text-align: right;\">\n",
       "      <th></th>\n",
       "      <th>App</th>\n",
       "      <th>Category</th>\n",
       "      <th>Rating</th>\n",
       "      <th>Reviews</th>\n",
       "      <th>Size_in_Bytes</th>\n",
       "      <th>Installs</th>\n",
       "      <th>Type</th>\n",
       "      <th>Price</th>\n",
       "      <th>Content Rating</th>\n",
       "      <th>Genres</th>\n",
       "      <th>Last Updated</th>\n",
       "      <th>Current Ver</th>\n",
       "      <th>Android Ver</th>\n",
       "    </tr>\n",
       "  </thead>\n",
       "  <tbody>\n",
       "    <tr>\n",
       "      <th>0</th>\n",
       "      <td>Photo Editor &amp; Candy Camera &amp; Grid &amp; ScrapBook</td>\n",
       "      <td>ART_AND_DESIGN</td>\n",
       "      <td>4.1</td>\n",
       "      <td>159</td>\n",
       "      <td>19922944.0</td>\n",
       "      <td>10,000+</td>\n",
       "      <td>Free</td>\n",
       "      <td>0</td>\n",
       "      <td>Everyone</td>\n",
       "      <td>Art &amp; Design</td>\n",
       "      <td>January 7, 2018</td>\n",
       "      <td>1.0.0</td>\n",
       "      <td>4.0.3 and up</td>\n",
       "    </tr>\n",
       "    <tr>\n",
       "      <th>1</th>\n",
       "      <td>Coloring book moana</td>\n",
       "      <td>ART_AND_DESIGN</td>\n",
       "      <td>3.9</td>\n",
       "      <td>967</td>\n",
       "      <td>14680064.0</td>\n",
       "      <td>500,000+</td>\n",
       "      <td>Free</td>\n",
       "      <td>0</td>\n",
       "      <td>Everyone</td>\n",
       "      <td>Art &amp; Design;Pretend Play</td>\n",
       "      <td>January 15, 2018</td>\n",
       "      <td>2.0.0</td>\n",
       "      <td>4.0.3 and up</td>\n",
       "    </tr>\n",
       "    <tr>\n",
       "      <th>2</th>\n",
       "      <td>U Launcher Lite – FREE Live Cool Themes, Hide ...</td>\n",
       "      <td>ART_AND_DESIGN</td>\n",
       "      <td>4.7</td>\n",
       "      <td>87510</td>\n",
       "      <td>9122611.2</td>\n",
       "      <td>5,000,000+</td>\n",
       "      <td>Free</td>\n",
       "      <td>0</td>\n",
       "      <td>Everyone</td>\n",
       "      <td>Art &amp; Design</td>\n",
       "      <td>August 1, 2018</td>\n",
       "      <td>1.2.4</td>\n",
       "      <td>4.0.3 and up</td>\n",
       "    </tr>\n",
       "    <tr>\n",
       "      <th>3</th>\n",
       "      <td>Sketch - Draw &amp; Paint</td>\n",
       "      <td>ART_AND_DESIGN</td>\n",
       "      <td>4.5</td>\n",
       "      <td>215644</td>\n",
       "      <td>26214400.0</td>\n",
       "      <td>50,000,000+</td>\n",
       "      <td>Free</td>\n",
       "      <td>0</td>\n",
       "      <td>Teen</td>\n",
       "      <td>Art &amp; Design</td>\n",
       "      <td>June 8, 2018</td>\n",
       "      <td>Varies with device</td>\n",
       "      <td>4.2 and up</td>\n",
       "    </tr>\n",
       "    <tr>\n",
       "      <th>4</th>\n",
       "      <td>Pixel Draw - Number Art Coloring Book</td>\n",
       "      <td>ART_AND_DESIGN</td>\n",
       "      <td>4.3</td>\n",
       "      <td>967</td>\n",
       "      <td>2936012.8</td>\n",
       "      <td>100,000+</td>\n",
       "      <td>Free</td>\n",
       "      <td>0</td>\n",
       "      <td>Everyone</td>\n",
       "      <td>Art &amp; Design;Creativity</td>\n",
       "      <td>June 20, 2018</td>\n",
       "      <td>1.1</td>\n",
       "      <td>4.4 and up</td>\n",
       "    </tr>\n",
       "  </tbody>\n",
       "</table>\n",
       "</div>"
      ],
      "text/plain": [
       "                                                 App        Category  Rating  \\\n",
       "0     Photo Editor & Candy Camera & Grid & ScrapBook  ART_AND_DESIGN     4.1   \n",
       "1                                Coloring book moana  ART_AND_DESIGN     3.9   \n",
       "2  U Launcher Lite – FREE Live Cool Themes, Hide ...  ART_AND_DESIGN     4.7   \n",
       "3                              Sketch - Draw & Paint  ART_AND_DESIGN     4.5   \n",
       "4              Pixel Draw - Number Art Coloring Book  ART_AND_DESIGN     4.3   \n",
       "\n",
       "   Reviews  Size_in_Bytes     Installs  Type Price Content Rating  \\\n",
       "0      159     19922944.0      10,000+  Free     0       Everyone   \n",
       "1      967     14680064.0     500,000+  Free     0       Everyone   \n",
       "2    87510      9122611.2   5,000,000+  Free     0       Everyone   \n",
       "3   215644     26214400.0  50,000,000+  Free     0           Teen   \n",
       "4      967      2936012.8     100,000+  Free     0       Everyone   \n",
       "\n",
       "                      Genres      Last Updated         Current Ver  \\\n",
       "0               Art & Design   January 7, 2018               1.0.0   \n",
       "1  Art & Design;Pretend Play  January 15, 2018               2.0.0   \n",
       "2               Art & Design    August 1, 2018               1.2.4   \n",
       "3               Art & Design      June 8, 2018  Varies with device   \n",
       "4    Art & Design;Creativity     June 20, 2018                 1.1   \n",
       "\n",
       "    Android Ver  \n",
       "0  4.0.3 and up  \n",
       "1  4.0.3 and up  \n",
       "2  4.0.3 and up  \n",
       "3    4.2 and up  \n",
       "4    4.4 and up  "
      ]
     },
     "execution_count": 75,
     "metadata": {},
     "output_type": "execute_result"
    }
   ],
   "source": [
    "# rename the column\n",
    "df.rename(columns={'Size': 'Size_in_Bytes'}, inplace=True)\n",
    "df.head()\n"
   ]
  },
  {
   "cell_type": "markdown",
   "id": "fbbb80e8",
   "metadata": {},
   "source": [
    "- lets rename again using lambda function"
   ]
  },
  {
   "cell_type": "code",
   "execution_count": 76,
   "id": "15ea8f42",
   "metadata": {},
   "outputs": [
    {
     "data": {
      "text/html": [
       "<div>\n",
       "<style scoped>\n",
       "    .dataframe tbody tr th:only-of-type {\n",
       "        vertical-align: middle;\n",
       "    }\n",
       "\n",
       "    .dataframe tbody tr th {\n",
       "        vertical-align: top;\n",
       "    }\n",
       "\n",
       "    .dataframe thead th {\n",
       "        text-align: right;\n",
       "    }\n",
       "</style>\n",
       "<table border=\"1\" class=\"dataframe\">\n",
       "  <thead>\n",
       "    <tr style=\"text-align: right;\">\n",
       "      <th></th>\n",
       "      <th>App</th>\n",
       "      <th>Category</th>\n",
       "      <th>Rating</th>\n",
       "      <th>Reviews</th>\n",
       "      <th>Size_in_Bytes</th>\n",
       "      <th>Installs</th>\n",
       "      <th>Type</th>\n",
       "      <th>Price</th>\n",
       "      <th>Content Rating</th>\n",
       "      <th>Genres</th>\n",
       "      <th>Last Updated</th>\n",
       "      <th>Current Ver</th>\n",
       "      <th>Android Ver</th>\n",
       "      <th>Size_in_Mb</th>\n",
       "      <th>Size_in_Kb</th>\n",
       "    </tr>\n",
       "  </thead>\n",
       "  <tbody>\n",
       "    <tr>\n",
       "      <th>0</th>\n",
       "      <td>Photo Editor &amp; Candy Camera &amp; Grid &amp; ScrapBook</td>\n",
       "      <td>ART_AND_DESIGN</td>\n",
       "      <td>4.1</td>\n",
       "      <td>159</td>\n",
       "      <td>19922944.0</td>\n",
       "      <td>10,000+</td>\n",
       "      <td>Free</td>\n",
       "      <td>0</td>\n",
       "      <td>Everyone</td>\n",
       "      <td>Art &amp; Design</td>\n",
       "      <td>January 7, 2018</td>\n",
       "      <td>1.0.0</td>\n",
       "      <td>4.0.3 and up</td>\n",
       "      <td>19.0</td>\n",
       "      <td>19456.0</td>\n",
       "    </tr>\n",
       "    <tr>\n",
       "      <th>1</th>\n",
       "      <td>Coloring book moana</td>\n",
       "      <td>ART_AND_DESIGN</td>\n",
       "      <td>3.9</td>\n",
       "      <td>967</td>\n",
       "      <td>14680064.0</td>\n",
       "      <td>500,000+</td>\n",
       "      <td>Free</td>\n",
       "      <td>0</td>\n",
       "      <td>Everyone</td>\n",
       "      <td>Art &amp; Design;Pretend Play</td>\n",
       "      <td>January 15, 2018</td>\n",
       "      <td>2.0.0</td>\n",
       "      <td>4.0.3 and up</td>\n",
       "      <td>14.0</td>\n",
       "      <td>14336.0</td>\n",
       "    </tr>\n",
       "    <tr>\n",
       "      <th>2</th>\n",
       "      <td>U Launcher Lite – FREE Live Cool Themes, Hide ...</td>\n",
       "      <td>ART_AND_DESIGN</td>\n",
       "      <td>4.7</td>\n",
       "      <td>87510</td>\n",
       "      <td>9122611.2</td>\n",
       "      <td>5,000,000+</td>\n",
       "      <td>Free</td>\n",
       "      <td>0</td>\n",
       "      <td>Everyone</td>\n",
       "      <td>Art &amp; Design</td>\n",
       "      <td>August 1, 2018</td>\n",
       "      <td>1.2.4</td>\n",
       "      <td>4.0.3 and up</td>\n",
       "      <td>8.7</td>\n",
       "      <td>8908.8</td>\n",
       "    </tr>\n",
       "    <tr>\n",
       "      <th>3</th>\n",
       "      <td>Sketch - Draw &amp; Paint</td>\n",
       "      <td>ART_AND_DESIGN</td>\n",
       "      <td>4.5</td>\n",
       "      <td>215644</td>\n",
       "      <td>26214400.0</td>\n",
       "      <td>50,000,000+</td>\n",
       "      <td>Free</td>\n",
       "      <td>0</td>\n",
       "      <td>Teen</td>\n",
       "      <td>Art &amp; Design</td>\n",
       "      <td>June 8, 2018</td>\n",
       "      <td>Varies with device</td>\n",
       "      <td>4.2 and up</td>\n",
       "      <td>25.0</td>\n",
       "      <td>25600.0</td>\n",
       "    </tr>\n",
       "    <tr>\n",
       "      <th>4</th>\n",
       "      <td>Pixel Draw - Number Art Coloring Book</td>\n",
       "      <td>ART_AND_DESIGN</td>\n",
       "      <td>4.3</td>\n",
       "      <td>967</td>\n",
       "      <td>2936012.8</td>\n",
       "      <td>100,000+</td>\n",
       "      <td>Free</td>\n",
       "      <td>0</td>\n",
       "      <td>Everyone</td>\n",
       "      <td>Art &amp; Design;Creativity</td>\n",
       "      <td>June 20, 2018</td>\n",
       "      <td>1.1</td>\n",
       "      <td>4.4 and up</td>\n",
       "      <td>2.8</td>\n",
       "      <td>2867.2</td>\n",
       "    </tr>\n",
       "  </tbody>\n",
       "</table>\n",
       "</div>"
      ],
      "text/plain": [
       "                                                 App        Category  Rating  \\\n",
       "0     Photo Editor & Candy Camera & Grid & ScrapBook  ART_AND_DESIGN     4.1   \n",
       "1                                Coloring book moana  ART_AND_DESIGN     3.9   \n",
       "2  U Launcher Lite – FREE Live Cool Themes, Hide ...  ART_AND_DESIGN     4.7   \n",
       "3                              Sketch - Draw & Paint  ART_AND_DESIGN     4.5   \n",
       "4              Pixel Draw - Number Art Coloring Book  ART_AND_DESIGN     4.3   \n",
       "\n",
       "   Reviews  Size_in_Bytes     Installs  Type Price Content Rating  \\\n",
       "0      159     19922944.0      10,000+  Free     0       Everyone   \n",
       "1      967     14680064.0     500,000+  Free     0       Everyone   \n",
       "2    87510      9122611.2   5,000,000+  Free     0       Everyone   \n",
       "3   215644     26214400.0  50,000,000+  Free     0           Teen   \n",
       "4      967      2936012.8     100,000+  Free     0       Everyone   \n",
       "\n",
       "                      Genres      Last Updated         Current Ver  \\\n",
       "0               Art & Design   January 7, 2018               1.0.0   \n",
       "1  Art & Design;Pretend Play  January 15, 2018               2.0.0   \n",
       "2               Art & Design    August 1, 2018               1.2.4   \n",
       "3               Art & Design      June 8, 2018  Varies with device   \n",
       "4    Art & Design;Creativity     June 20, 2018                 1.1   \n",
       "\n",
       "    Android Ver  Size_in_Mb  Size_in_Kb  \n",
       "0  4.0.3 and up        19.0     19456.0  \n",
       "1  4.0.3 and up        14.0     14336.0  \n",
       "2  4.0.3 and up         8.7      8908.8  \n",
       "3    4.2 and up        25.0     25600.0  \n",
       "4    4.4 and up         2.8      2867.2  "
      ]
     },
     "execution_count": 76,
     "metadata": {},
     "output_type": "execute_result"
    }
   ],
   "source": [
    "# create a new column with name of Size_in_Mb\n",
    "df['Size_in_Mb'] = df['Size_in_Bytes'].apply(lambda x: x /(1024* 1024))\n",
    "\n",
    "# create a new column with name of Size_in_kb\n",
    "df['Size_in_Kb'] = df['Size_in_Bytes'].apply(lambda x: x /(1024))\n",
    "df.head()"
   ]
  },
  {
   "cell_type": "markdown",
   "id": "9ff971a0",
   "metadata": {},
   "source": [
    "### Lets feature engneering of 'Installs' columns"
   ]
  },
  {
   "cell_type": "code",
   "execution_count": 77,
   "id": "2eb4911b",
   "metadata": {},
   "outputs": [
    {
     "data": {
      "text/plain": [
       "array(['10,000+', '500,000+', '5,000,000+', '50,000,000+', '100,000+',\n",
       "       '50,000+', '1,000,000+', '10,000,000+', '5,000+', '100,000,000+',\n",
       "       '1,000,000,000+', '1,000+', '500,000,000+', '50+', '100+', '500+',\n",
       "       '10+', '1+', '5+', '0+', '0'], dtype=object)"
      ]
     },
     "execution_count": 77,
     "metadata": {},
     "output_type": "execute_result"
    }
   ],
   "source": [
    "# find unique values\n",
    "df['Installs'].unique()"
   ]
  },
  {
   "cell_type": "code",
   "execution_count": 78,
   "id": "ee3ccafc",
   "metadata": {},
   "outputs": [
    {
     "data": {
      "text/plain": [
       "Installs\n",
       "1,000,000+        1579\n",
       "10,000,000+       1252\n",
       "100,000+          1169\n",
       "10,000+           1054\n",
       "1,000+             908\n",
       "5,000,000+         752\n",
       "100+               719\n",
       "500,000+           539\n",
       "50,000+            479\n",
       "5,000+             477\n",
       "100,000,000+       409\n",
       "10+                386\n",
       "500+               330\n",
       "50,000,000+        289\n",
       "50+                205\n",
       "5+                  82\n",
       "500,000,000+        72\n",
       "1+                  67\n",
       "1,000,000,000+      58\n",
       "0+                  14\n",
       "0                    1\n",
       "Name: count, dtype: int64"
      ]
     },
     "execution_count": 78,
     "metadata": {},
     "output_type": "execute_result"
    }
   ],
   "source": [
    "# value counts check\n",
    "df['Installs'].value_counts()"
   ]
  },
  {
   "cell_type": "code",
   "execution_count": 79,
   "id": "c9a64815",
   "metadata": {},
   "outputs": [
    {
     "data": {
      "text/plain": [
       "np.int64(0)"
      ]
     },
     "execution_count": 79,
     "metadata": {},
     "output_type": "execute_result"
    }
   ],
   "source": [
    "# check missing values\n",
    "df['Installs'].isnull().sum()"
   ]
  },
  {
   "cell_type": "markdown",
   "id": "1181a4f5",
   "metadata": {},
   "source": [
    "We have to remove + sign and comma ',' and we will convert **installs** column into integer\n",
    "- 1. remove + sign\n",
    "- 2. remove ',' comma\n",
    "- 3. convert this column into integer"
   ]
  },
  {
   "cell_type": "code",
   "execution_count": 80,
   "id": "95e0823f",
   "metadata": {},
   "outputs": [],
   "source": [
    "# remove + sign from column Installs\n",
    "df['Installs'] = df['Installs'].apply(lambda x: x.replace('+', '')if '+' in str(x) else x)\n",
    "# df.head()"
   ]
  },
  {
   "cell_type": "code",
   "execution_count": 81,
   "id": "d1746d63",
   "metadata": {},
   "outputs": [],
   "source": [
    "# remove ',' from column Installs\n",
    "df['Installs'] = df['Installs'].apply(lambda x: x.replace(',', '')if ',' in str(x) else x)\n"
   ]
  },
  {
   "cell_type": "code",
   "execution_count": 82,
   "id": "4f4105fb",
   "metadata": {},
   "outputs": [
    {
     "data": {
      "text/plain": [
       "Installs\n",
       "1000000       1579\n",
       "10000000      1252\n",
       "100000        1169\n",
       "10000         1054\n",
       "1000           908\n",
       "5000000        752\n",
       "100            719\n",
       "500000         539\n",
       "50000          479\n",
       "5000           477\n",
       "100000000      409\n",
       "10             386\n",
       "500            330\n",
       "50000000       289\n",
       "50             205\n",
       "5               82\n",
       "500000000       72\n",
       "1               67\n",
       "1000000000      58\n",
       "0               15\n",
       "Name: count, dtype: int64"
      ]
     },
     "execution_count": 82,
     "metadata": {},
     "output_type": "execute_result"
    }
   ],
   "source": [
    "df['Installs'].value_counts()"
   ]
  },
  {
   "cell_type": "code",
   "execution_count": 83,
   "id": "af4d174b",
   "metadata": {},
   "outputs": [
    {
     "data": {
      "text/plain": [
       "Installs\n",
       "1000000       1579\n",
       "10000000      1252\n",
       "100000        1169\n",
       "10000         1054\n",
       "1000           908\n",
       "5000000        752\n",
       "100            719\n",
       "500000         539\n",
       "50000          479\n",
       "5000           477\n",
       "100000000      409\n",
       "10             386\n",
       "500            330\n",
       "50000000       289\n",
       "50             205\n",
       "5               82\n",
       "500000000       72\n",
       "1               67\n",
       "1000000000      58\n",
       "0               15\n",
       "Name: count, dtype: int64"
      ]
     },
     "execution_count": 83,
     "metadata": {},
     "output_type": "execute_result"
    }
   ],
   "source": [
    "# convert to int\n",
    "df['Installs'] = df['Installs'].apply(lambda x: int(x))\n",
    "df['Installs'].value_counts()"
   ]
  },
  {
   "cell_type": "code",
   "execution_count": 84,
   "id": "7ad42aec",
   "metadata": {},
   "outputs": [
    {
     "data": {
      "text/html": [
       "<div>\n",
       "<style scoped>\n",
       "    .dataframe tbody tr th:only-of-type {\n",
       "        vertical-align: middle;\n",
       "    }\n",
       "\n",
       "    .dataframe tbody tr th {\n",
       "        vertical-align: top;\n",
       "    }\n",
       "\n",
       "    .dataframe thead th {\n",
       "        text-align: right;\n",
       "    }\n",
       "</style>\n",
       "<table border=\"1\" class=\"dataframe\">\n",
       "  <thead>\n",
       "    <tr style=\"text-align: right;\">\n",
       "      <th></th>\n",
       "      <th>Rating</th>\n",
       "      <th>Reviews</th>\n",
       "      <th>Size_in_Bytes</th>\n",
       "      <th>Installs</th>\n",
       "      <th>Size_in_Mb</th>\n",
       "      <th>Size_in_Kb</th>\n",
       "    </tr>\n",
       "  </thead>\n",
       "  <tbody>\n",
       "    <tr>\n",
       "      <th>count</th>\n",
       "      <td>9367.000000</td>\n",
       "      <td>1.084100e+04</td>\n",
       "      <td>9.146000e+03</td>\n",
       "      <td>1.084100e+04</td>\n",
       "      <td>9146.000000</td>\n",
       "      <td>9146.000000</td>\n",
       "    </tr>\n",
       "    <tr>\n",
       "      <th>mean</th>\n",
       "      <td>4.191513</td>\n",
       "      <td>4.441119e+05</td>\n",
       "      <td>2.255921e+07</td>\n",
       "      <td>1.546291e+07</td>\n",
       "      <td>21.514141</td>\n",
       "      <td>22030.480308</td>\n",
       "    </tr>\n",
       "    <tr>\n",
       "      <th>std</th>\n",
       "      <td>0.515735</td>\n",
       "      <td>2.927629e+06</td>\n",
       "      <td>2.368595e+07</td>\n",
       "      <td>8.502557e+07</td>\n",
       "      <td>22.588679</td>\n",
       "      <td>23130.807322</td>\n",
       "    </tr>\n",
       "    <tr>\n",
       "      <th>min</th>\n",
       "      <td>1.000000</td>\n",
       "      <td>0.000000e+00</td>\n",
       "      <td>8.704000e+03</td>\n",
       "      <td>0.000000e+00</td>\n",
       "      <td>0.008301</td>\n",
       "      <td>8.500000</td>\n",
       "    </tr>\n",
       "    <tr>\n",
       "      <th>25%</th>\n",
       "      <td>4.000000</td>\n",
       "      <td>3.800000e+01</td>\n",
       "      <td>5.138022e+06</td>\n",
       "      <td>1.000000e+03</td>\n",
       "      <td>4.900000</td>\n",
       "      <td>5017.600000</td>\n",
       "    </tr>\n",
       "    <tr>\n",
       "      <th>50%</th>\n",
       "      <td>4.300000</td>\n",
       "      <td>2.094000e+03</td>\n",
       "      <td>1.363149e+07</td>\n",
       "      <td>1.000000e+05</td>\n",
       "      <td>13.000000</td>\n",
       "      <td>13312.000000</td>\n",
       "    </tr>\n",
       "    <tr>\n",
       "      <th>75%</th>\n",
       "      <td>4.500000</td>\n",
       "      <td>5.476800e+04</td>\n",
       "      <td>3.145728e+07</td>\n",
       "      <td>5.000000e+06</td>\n",
       "      <td>30.000000</td>\n",
       "      <td>30720.000000</td>\n",
       "    </tr>\n",
       "    <tr>\n",
       "      <th>max</th>\n",
       "      <td>5.000000</td>\n",
       "      <td>7.815831e+07</td>\n",
       "      <td>1.048576e+08</td>\n",
       "      <td>1.000000e+09</td>\n",
       "      <td>100.000000</td>\n",
       "      <td>102400.000000</td>\n",
       "    </tr>\n",
       "  </tbody>\n",
       "</table>\n",
       "</div>"
      ],
      "text/plain": [
       "            Rating       Reviews  Size_in_Bytes      Installs   Size_in_Mb  \\\n",
       "count  9367.000000  1.084100e+04   9.146000e+03  1.084100e+04  9146.000000   \n",
       "mean      4.191513  4.441119e+05   2.255921e+07  1.546291e+07    21.514141   \n",
       "std       0.515735  2.927629e+06   2.368595e+07  8.502557e+07    22.588679   \n",
       "min       1.000000  0.000000e+00   8.704000e+03  0.000000e+00     0.008301   \n",
       "25%       4.000000  3.800000e+01   5.138022e+06  1.000000e+03     4.900000   \n",
       "50%       4.300000  2.094000e+03   1.363149e+07  1.000000e+05    13.000000   \n",
       "75%       4.500000  5.476800e+04   3.145728e+07  5.000000e+06    30.000000   \n",
       "max       5.000000  7.815831e+07   1.048576e+08  1.000000e+09   100.000000   \n",
       "\n",
       "          Size_in_Kb  \n",
       "count    9146.000000  \n",
       "mean    22030.480308  \n",
       "std     23130.807322  \n",
       "min         8.500000  \n",
       "25%      5017.600000  \n",
       "50%     13312.000000  \n",
       "75%     30720.000000  \n",
       "max    102400.000000  "
      ]
     },
     "execution_count": 84,
     "metadata": {},
     "output_type": "execute_result"
    }
   ],
   "source": [
    "df.describe()"
   ]
  },
  {
   "cell_type": "markdown",
   "id": "73243b89",
   "metadata": {},
   "source": [
    "## Feature Engneering of Price Column"
   ]
  },
  {
   "cell_type": "code",
   "execution_count": 89,
   "id": "4a99a766",
   "metadata": {},
   "outputs": [
    {
     "data": {
      "text/plain": [
       "np.int64(800)"
      ]
     },
     "execution_count": 89,
     "metadata": {},
     "output_type": "execute_result"
    }
   ],
   "source": [
    "# lets see how many values have $ in them\n",
    "df['Price'].loc[df['Price'].str.contains('\\$')].value_counts().sum()"
   ]
  },
  {
   "cell_type": "code",
   "execution_count": 90,
   "id": "7d0be92e",
   "metadata": {},
   "outputs": [
    {
     "data": {
      "text/plain": [
       "np.int64(10041)"
      ]
     },
     "execution_count": 90,
     "metadata": {},
     "output_type": "execute_result"
    }
   ],
   "source": [
    "df['Price'].loc[df['Price'].str.contains('0') & (~df['Price'].str.contains('\\$'))].value_counts().sum()"
   ]
  },
  {
   "cell_type": "code",
   "execution_count": 96,
   "id": "282fb03d",
   "metadata": {},
   "outputs": [],
   "source": [
    "# remove $ sign\n",
    "df['Price'] = df['Price'].apply(lambda x: x.replace('$', '')if '$' in str(x) else x)"
   ]
  },
  {
   "cell_type": "code",
   "execution_count": 97,
   "id": "75c80a54",
   "metadata": {},
   "outputs": [
    {
     "data": {
      "text/plain": [
       "Price\n",
       "0         10041\n",
       "0.99        148\n",
       "2.99        129\n",
       "1.99         73\n",
       "4.99         72\n",
       "3.99         63\n",
       "1.49         46\n",
       "5.99         30\n",
       "2.49         26\n",
       "9.99         21\n",
       "6.99         13\n",
       "399.99       12\n",
       "14.99        11\n",
       "4.49          9\n",
       "29.99         7\n",
       "24.99         7\n",
       "3.49          7\n",
       "7.99          7\n",
       "5.49          6\n",
       "19.99         6\n",
       "11.99         5\n",
       "6.49          5\n",
       "12.99         5\n",
       "8.99          5\n",
       "10.00         3\n",
       "16.99         3\n",
       "1.00          3\n",
       "2.00          3\n",
       "13.99         2\n",
       "8.49          2\n",
       "17.99         2\n",
       "1.70          2\n",
       "3.95          2\n",
       "79.99         2\n",
       "7.49          2\n",
       "9.00          2\n",
       "10.99         2\n",
       "39.99         2\n",
       "33.99         2\n",
       "1.96          1\n",
       "19.40         1\n",
       "4.80          1\n",
       "3.28          1\n",
       "4.59          1\n",
       "15.46         1\n",
       "3.04          1\n",
       "4.29          1\n",
       "2.60          1\n",
       "2.59          1\n",
       "3.90          1\n",
       "154.99        1\n",
       "4.60          1\n",
       "28.99         1\n",
       "2.95          1\n",
       "2.90          1\n",
       "1.97          1\n",
       "200.00        1\n",
       "89.99         1\n",
       "2.56          1\n",
       "1.20          1\n",
       "1.26          1\n",
       "30.99         1\n",
       "3.61          1\n",
       "394.99        1\n",
       "3.08          1\n",
       "1.61          1\n",
       "109.99        1\n",
       "46.99         1\n",
       "1.50          1\n",
       "15.99         1\n",
       "74.99         1\n",
       "3.88          1\n",
       "25.99         1\n",
       "400.00        1\n",
       "3.02          1\n",
       "1.76          1\n",
       "4.84          1\n",
       "4.77          1\n",
       "2.50          1\n",
       "1.59          1\n",
       "1.29          1\n",
       "5.00          1\n",
       "299.99        1\n",
       "379.99        1\n",
       "37.99         1\n",
       "18.99         1\n",
       "389.99        1\n",
       "19.90         1\n",
       "1.75          1\n",
       "14.00         1\n",
       "4.85          1\n",
       "1.04          1\n",
       "Name: count, dtype: int64"
      ]
     },
     "execution_count": 97,
     "metadata": {},
     "output_type": "execute_result"
    }
   ],
   "source": [
    "df['Price'].value_counts()"
   ]
  },
  {
   "cell_type": "code",
   "execution_count": 98,
   "id": "6db7eafa",
   "metadata": {},
   "outputs": [
    {
     "data": {
      "text/plain": [
       "Price\n",
       "0.00      10041\n",
       "0.99        148\n",
       "2.99        129\n",
       "1.99         73\n",
       "4.99         72\n",
       "3.99         63\n",
       "1.49         46\n",
       "5.99         30\n",
       "2.49         26\n",
       "9.99         21\n",
       "6.99         13\n",
       "399.99       12\n",
       "14.99        11\n",
       "4.49          9\n",
       "29.99         7\n",
       "24.99         7\n",
       "3.49          7\n",
       "7.99          7\n",
       "5.49          6\n",
       "19.99         6\n",
       "11.99         5\n",
       "6.49          5\n",
       "12.99         5\n",
       "8.99          5\n",
       "10.00         3\n",
       "16.99         3\n",
       "1.00          3\n",
       "2.00          3\n",
       "13.99         2\n",
       "8.49          2\n",
       "17.99         2\n",
       "1.70          2\n",
       "3.95          2\n",
       "79.99         2\n",
       "7.49          2\n",
       "9.00          2\n",
       "10.99         2\n",
       "39.99         2\n",
       "33.99         2\n",
       "1.96          1\n",
       "19.40         1\n",
       "4.80          1\n",
       "3.28          1\n",
       "4.59          1\n",
       "15.46         1\n",
       "3.04          1\n",
       "4.29          1\n",
       "2.60          1\n",
       "2.59          1\n",
       "3.90          1\n",
       "154.99        1\n",
       "4.60          1\n",
       "28.99         1\n",
       "2.95          1\n",
       "2.90          1\n",
       "1.97          1\n",
       "200.00        1\n",
       "89.99         1\n",
       "2.56          1\n",
       "1.20          1\n",
       "1.26          1\n",
       "30.99         1\n",
       "3.61          1\n",
       "394.99        1\n",
       "3.08          1\n",
       "1.61          1\n",
       "109.99        1\n",
       "46.99         1\n",
       "1.50          1\n",
       "15.99         1\n",
       "74.99         1\n",
       "3.88          1\n",
       "25.99         1\n",
       "400.00        1\n",
       "3.02          1\n",
       "1.76          1\n",
       "4.84          1\n",
       "4.77          1\n",
       "2.50          1\n",
       "1.59          1\n",
       "1.29          1\n",
       "5.00          1\n",
       "299.99        1\n",
       "379.99        1\n",
       "37.99         1\n",
       "18.99         1\n",
       "389.99        1\n",
       "19.90         1\n",
       "1.75          1\n",
       "14.00         1\n",
       "4.85          1\n",
       "1.04          1\n",
       "Name: count, dtype: int64"
      ]
     },
     "execution_count": 98,
     "metadata": {},
     "output_type": "execute_result"
    }
   ],
   "source": [
    "# convetrt Price veriable into numaric values\n",
    "df['Price'] = df['Price'].apply(lambda x: float(x))\n",
    "df['Price'].value_counts()"
   ]
  },
  {
   "cell_type": "code",
   "execution_count": 99,
   "id": "f29b0242",
   "metadata": {},
   "outputs": [
    {
     "name": "stdout",
     "output_type": "stream",
     "text": [
      "the minimum price is 0.0\n",
      "and the maximum price is 400.0\n",
      "and the average price is 1.0272733142699015\n"
     ]
    }
   ],
   "source": [
    "# using f string to print the result\n",
    "print(f\"the minimum price is {df['Price'].min()}\")\n",
    "print(f\"and the maximum price is {df['Price'].max()}\")\n",
    "print(f\"and the average price is {df['Price'].mean()}\")"
   ]
  },
  {
   "cell_type": "code",
   "execution_count": 100,
   "id": "ab71030a",
   "metadata": {},
   "outputs": [
    {
     "data": {
      "text/plain": [
       "Size_in_Bytes     1695\n",
       "Size_in_Mb        1695\n",
       "Size_in_Kb        1695\n",
       "Rating            1474\n",
       "Current Ver          8\n",
       "Android Ver          2\n",
       "Type                 1\n",
       "App                  0\n",
       "Category             0\n",
       "Reviews              0\n",
       "Installs             0\n",
       "Price                0\n",
       "Content Rating       0\n",
       "Genres               0\n",
       "Last Updated         0\n",
       "dtype: int64"
      ]
     },
     "execution_count": 100,
     "metadata": {},
     "output_type": "execute_result"
    }
   ],
   "source": [
    "# find the missing values in desending order\n",
    "df.isnull().sum().sort_values(ascending=False)"
   ]
  },
  {
   "cell_type": "code",
   "execution_count": 102,
   "id": "4e7218ff",
   "metadata": {},
   "outputs": [
    {
     "data": {
      "text/plain": [
       "Size_in_Bytes     15.64\n",
       "Size_in_Mb        15.64\n",
       "Size_in_Kb        15.64\n",
       "Rating            13.60\n",
       "Current Ver        0.07\n",
       "Android Ver        0.02\n",
       "Type               0.01\n",
       "App                0.00\n",
       "Category           0.00\n",
       "Reviews            0.00\n",
       "Installs           0.00\n",
       "Price              0.00\n",
       "Content Rating     0.00\n",
       "Genres             0.00\n",
       "Last Updated       0.00\n",
       "dtype: float64"
      ]
     },
     "execution_count": 102,
     "metadata": {},
     "output_type": "execute_result"
    }
   ],
   "source": [
    "# finding missing values percentage in the data\n",
    "round(df.isnull().sum() * 100 / len(df), 2).sort_values(ascending=False)"
   ]
  },
  {
   "cell_type": "code",
   "execution_count": 104,
   "id": "11043c0d",
   "metadata": {},
   "outputs": [
    {
     "data": {
      "text/plain": [
       "np.int64(6570)"
      ]
     },
     "execution_count": 104,
     "metadata": {},
     "output_type": "execute_result"
    }
   ],
   "source": [
    "# Find total number of missing values\n",
    "df.isnull().sum().sum()"
   ]
  },
  {
   "cell_type": "code",
   "execution_count": null,
   "id": "1c44510e",
   "metadata": {},
   "outputs": [
    {
     "data": {
      "image/png": "[encoded data removed]",
      "text/plain": [
       "<Figure size 1600x600 with 1 Axes>"
      ]
     },
     "metadata": {},
     "output_type": "display_data"
    }
   ],
   "source": [
    "# check the distribution of missing values by plotting a heatmap\n",
    "plt.figure(figsize=(16, 6))\n",
    "sns.heatmap(df.isnull(), yticklabels=False, cbar=False, cmap='viridis')\n",
    "plt.show()"
   ]
  },
  {
   "cell_type": "code",
   "execution_count": 107,
   "id": "68c5b9a6",
   "metadata": {},
   "outputs": [
    {
     "data": {
      "image/png": "[encoded data removed]",
      "text/plain": [
       "<Figure size 1600x600 with 1 Axes>"
      ]
     },
     "metadata": {},
     "output_type": "display_data"
    }
   ],
   "source": [
    "# make figure size\n",
    "plt.figure(figsize=(16, 6))\n",
    "# plot the null values by their percentage in each column\n",
    "missing_percentage = df.isnull().sum()/len(df) * 100\n",
    "missing_percentage.plot(kind='bar')\n",
    "# add the label\n",
    "plt.xlabel(\"columns\")\n",
    "plt.ylabel(\"Percentage\")\n",
    "plt.title(\"Percentage of missing values in each column\")\n",
    "plt.show()"
   ]
  },
  {
   "cell_type": "code",
   "execution_count": null,
   "id": "d03c0b7b",
   "metadata": {},
   "outputs": [],
   "source": []
  }
 ],
 "metadata": {
  "kernelspec": {
   "display_name": "baba_ammar",
   "language": "python",
   "name": "python3"
  },
  "language_info": {
   "codemirror_mode": {
    "name": "ipython",
    "version": 3
   },
   "file_extension": ".py",
   "mimetype": "text/x-python",
   "name": "python",
   "nbconvert_exporter": "python",
   "pygments_lexer": "ipython3",
   "version": "3.10.16"
  }
 },
 "nbformat": 4,
 "nbformat_minor": 5
}
